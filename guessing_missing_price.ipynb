{
  "nbformat": 4,
  "nbformat_minor": 0,
  "metadata": {
    "colab": {
      "provenance": [],
      "authorship_tag": "ABX9TyPVvTEELcIzJ7OkUGmE0Xh3",
      "include_colab_link": true
    },
    "kernelspec": {
      "name": "python3",
      "display_name": "Python 3"
    },
    "language_info": {
      "name": "python"
    }
  },
  "cells": [
    {
      "cell_type": "markdown",
      "metadata": {
        "id": "view-in-github",
        "colab_type": "text"
      },
      "source": [
        "<a href=\"https://colab.research.google.com/github/Subhaaaaa/guess-missing-pice/blob/main/guessing_missing_price.ipynb\" target=\"_parent\"><img src=\"https://colab.research.google.com/assets/colab-badge.svg\" alt=\"Open In Colab\"/></a>"
      ]
    },
    {
      "cell_type": "code",
      "execution_count": null,
      "metadata": {
        "id": "H3agQJW50aCg"
      },
      "outputs": [],
      "source": [
        "import numpy as np\n",
        "from sklearn.linear_model import LinearRegression\n",
        "def getData():\n",
        "\n",
        "  F,H = map(int,input('Enter the number of features and house prices collected : ').split(' '))\n",
        "\n",
        "  train_data = list()\n",
        "  X_test = list()\n",
        "\n",
        "  [train_data.append(list(map(float,input('Input feature values').split(' ')))) for _ in range(0,H)]\n",
        "  T = int(input('Enter the number of unknown priced houses'))\n",
        "  [X_test.append(list(map(float,input().split(' ')))) for _ in range(0,T)]\n",
        "\n",
        "  train_data = np.array(train_data, dtype = np.float64)\n",
        "  X_test = np.array(X_test)\n",
        "\n",
        "  X_train = train_data[:,:F]\n",
        "  y_train = train_data[:,-1]\n",
        "\n",
        "\n",
        "\n",
        "  return X_train, y_train, X_test"
      ]
    },
    {
      "cell_type": "code",
      "source": [
        "def modelTrainer(X_train, y_train, X_test):\n",
        "  model = LinearRegression()\n",
        "  model.fit(X_train, y_train)\n",
        "  y_pred = model.predict(X_test)\n",
        "  return y_pred\n",
        "\n"
      ],
      "metadata": {
        "id": "21190Ri86dw-"
      },
      "execution_count": null,
      "outputs": []
    },
    {
      "cell_type": "code",
      "source": [
        "def main1():\n",
        "  X_train, y_train, X_test = getData()\n",
        "  result = modelTrainer(X_train, y_train, X_test)\n",
        "  [print(_,sep='\\n') for _ in result]\n"
      ],
      "metadata": {
        "id": "_QDvBxhD0s7u"
      },
      "execution_count": null,
      "outputs": []
    },
    {
      "cell_type": "code",
      "source": [
        "\n",
        "main1()\n"
      ],
      "metadata": {
        "colab": {
          "base_uri": "https://localhost:8080/"
        },
        "id": "E0AGzGwb0xKp",
        "outputId": "18b9abde-3d24-48f4-beef-d63d51f87165"
      },
      "execution_count": null,
      "outputs": [
        {
          "output_type": "stream",
          "name": "stdout",
          "text": [
            "Enter the number of features and house prices collected : 2 2\n",
            "Input feature values0.18 0.89 109.85\n",
            "Input feature values0.18 0.89 109.85\n",
            "Enter the number of unknown priced houses2\n",
            "0.18 0.89\n",
            "0.18 0.89\n",
            "109.85\n",
            "109.85\n"
          ]
        }
      ]
    },
    {
      "cell_type": "code",
      "source": [],
      "metadata": {
        "id": "k1xiaEyv008o"
      },
      "execution_count": null,
      "outputs": []
    },
    {
      "cell_type": "code",
      "source": [],
      "metadata": {
        "id": "9sBWpY2mdvkQ"
      },
      "execution_count": null,
      "outputs": []
    },
    {
      "cell_type": "code",
      "source": [],
      "metadata": {
        "id": "FCTbBPtbdxbB"
      },
      "execution_count": null,
      "outputs": []
    },
    {
      "cell_type": "code",
      "source": [],
      "metadata": {
        "id": "QbjYAKZ6d47b"
      },
      "execution_count": null,
      "outputs": []
    }
  ]
}